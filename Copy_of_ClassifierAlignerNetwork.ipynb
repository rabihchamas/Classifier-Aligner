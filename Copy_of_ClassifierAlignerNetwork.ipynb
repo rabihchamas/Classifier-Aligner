{
  "cells": [
    {
      "cell_type": "markdown",
      "metadata": {
        "id": "view-in-github",
        "colab_type": "text"
      },
      "source": [
        "<a href=\"https://colab.research.google.com/github/rabihchamas/Classifier-Aligner/blob/main/Copy_of_ClassifierAlignerNetwork.ipynb\" target=\"_parent\"><img src=\"https://colab.research.google.com/assets/colab-badge.svg\" alt=\"Open In Colab\"/></a>"
      ]
    },
    {
      "cell_type": "code",
      "execution_count": 44,
      "metadata": {
        "id": "sWloMwLrSgyf"
      },
      "outputs": [],
      "source": [
        "\n",
        "import math\n",
        "import torch.nn as nn\n",
        "import torch.nn.functional as F\n",
        "from torch.nn import Transformer\n",
        "from torchvision import datasets\n",
        "from torchvision import transforms\n",
        "import matplotlib.pyplot as plt"
      ]
    },
    {
      "cell_type": "code",
      "execution_count": 45,
      "metadata": {
        "id": "QZqjCYT_TC_c"
      },
      "outputs": [],
      "source": [
        "#The shuffeling method\n",
        "import torch\n",
        "\n",
        "def shuffleIm(tensor):\n",
        "  for i in range(tensor.shape[0]):\n",
        "    indexes = torch.randperm(tensor.shape[1])\n",
        "    tensor[i] = tensor[i][indexes]\n",
        "  return tensor  \n"
      ]
    },
    {
      "cell_type": "code",
      "execution_count": 48,
      "metadata": {
        "id": "0LIAhnIVwlCk"
      },
      "outputs": [],
      "source": [
        "# Define the architecture of the classifier\n",
        "class Net(nn.Module):\n",
        "    def __init__(self):\n",
        "        super(Net, self).__init__()\n",
        "        self.conv1 = nn.Conv2d(1, 32, kernel_size=3, stride=1, padding='valid')\n",
        "        self.conv2 = nn.Conv2d(32, 64, kernel_size=3, stride=1, padding='valid')\n",
        "        self.dropout1 = nn.Dropout(0.25)\n",
        "        self.dropout2 = nn.Dropout(0.5)\n",
        "        self.fc1 = nn.Linear(9216, 128)\n",
        "        self.fc2 = nn.Linear(128, 1)\n",
        "\n",
        "    def forward(self, x):\n",
        "        x = self.conv1(x)\n",
        "        x = F.relu(x)\n",
        "        x = self.conv2(x)\n",
        "        x = F.relu(x)\n",
        "        x = F.max_pool2d(x, 2)\n",
        "        x = self.dropout1(x)\n",
        "        x = torch.flatten(x, 1)\n",
        "        x = self.fc1(x)\n",
        "        x = F.relu(x)\n",
        "        x = self.dropout2(x)\n",
        "        output = self.fc2(x)\n",
        "        return output"
      ]
    },
    {
      "cell_type": "code",
      "execution_count": 49,
      "metadata": {
        "id": "J6IUqNnokvnr"
      },
      "outputs": [],
      "source": [
        "class EmbedLayer(nn.Module):\n",
        "    def __init__(self):\n",
        "        super(EmbedLayer, self).__init__()\n",
        "        self.cls_token = nn.Parameter(torch.zeros(1, 1, 6), requires_grad=True)  # Cls Token\n",
        "        self.pos_embedding = nn.Parameter(torch.zeros(1, 129, 6), requires_grad=True)  # Positional Embedding\n",
        "\n",
        "    def forward(self, x):\n",
        "        x = x.reshape([x.shape[0], 6, -1])  # B E IH/P IW/P -> B E S\n",
        "        x = x.transpose(1, 2)  # B E S -> B S E\n",
        "        x = torch.cat((torch.repeat_interleave(self.cls_token, x.shape[0], 0), x), dim=1)\n",
        "        x = x + self.pos_embedding\n",
        "        return x"
      ]
    },
    {
      "cell_type": "code",
      "execution_count": 50,
      "metadata": {
        "id": "R3iyEw9M6_nw"
      },
      "outputs": [],
      "source": [
        "class AttentionLayer(nn.Module):\n",
        "    def __init__(self):\n",
        "        super(AttentionLayer, self).__init__()\n",
        "        self.n_attention_heads = 6\n",
        "        self.embed_dim = 6\n",
        "        self.head_embed_dim = self.embed_dim // self.n_attention_heads\n",
        "\n",
        "        self.queries = nn.Linear(self.embed_dim, self.head_embed_dim * self.n_attention_heads, bias=True)\n",
        "        self.keys = nn.Linear(self.embed_dim, self.head_embed_dim * self.n_attention_heads, bias=True)\n",
        "        self.values = nn.Linear(self.embed_dim, self.head_embed_dim * self.n_attention_heads, bias=True)\n",
        "\n",
        "        self.fc = nn.Linear(self.embed_dim, self.embed_dim)\n",
        "\n",
        "    def forward(self, q, k, v):\n",
        "\n",
        "        x_queries = self.queries(q).reshape(q.shape[0], q.shape[1], self.n_attention_heads, self.head_embed_dim)  # B, Q, E -> B, Q, H, HE\n",
        "        x_queries = x_queries.transpose(1, 2)  # B, Q, H, HE -> B, H, Q, HE\n",
        "        x_keys = self.keys(k).reshape(k.shape[0], k.shape[1], self.n_attention_heads, self.head_embed_dim)  # B, K, E -> B, K, H, HE\n",
        "        x_keys = x_keys.transpose(1, 2)  # B, K, H, HE -> B, H, K, HE\n",
        "        x_values = self.values(v).reshape(v.shape[0], v.shape[1], self.n_attention_heads, self.head_embed_dim)  # B, V, E -> B, V, H, HE\n",
        "        x_values = x_values.transpose(1, 2)  # B, V, H, HE -> B, H, V, HE\n",
        "\n",
        "        x_queries = x_queries.reshape([-1, x_queries.shape[2], x_queries.shape[3]])  # B, H, Q, HE -> (BH), Q, HE\n",
        "        x_keys = x_keys.reshape([-1, x_keys.shape[2], x_keys.shape[3]])  # B, H, K, HE -> (BH), K, HE\n",
        "        x_values = x_values.reshape([-1, x_values.shape[2], x_values.shape[3]])  # B, H, V, HE -> (BH), V, HE\n",
        "\n",
        "        x_keys = x_keys.transpose(1, 2)  # (BH), K, HE -> (BH), HE, K\n",
        "        x_attention = x_queries.bmm(x_keys)  # (BH), Q, HE  .  (BH), HE, K -> (BH), Q, K\n",
        "        x_attention = x_attention / (self.head_embed_dim ** 0.5)\n",
        "        x_attention = torch.softmax(x_attention, dim=-1)\n",
        "\n",
        "        x = x_attention.bmm(x_values)  # (BH), Q, K . (BH), V, HE -> (BH), Q, HE\n",
        "        x = x.reshape([-1, self.n_attention_heads, x.shape[1], x.shape[2]])  # (BH), Q, HE -> B, H, Q, HE\n",
        "        x = x.transpose(1, 2)  # B, H, Q, HE -> B, Q, H, HE\n",
        "        x = x.reshape(x.shape[0], x.shape[1], -1)  # B, Q, H, HE -> B, Q, E\n",
        "        return x"
      ]
    },
    {
      "cell_type": "code",
      "execution_count": 51,
      "metadata": {
        "id": "9Y6F-bH07JCv"
      },
      "outputs": [],
      "source": [
        "class Encoder(nn.Module):\n",
        "    def __init__(self):\n",
        "        super(Encoder, self).__init__()\n",
        "        self.attention = AttentionLayer()\n",
        "        self.fc1 = nn.Linear(6, 6*2)\n",
        "        self.activation = nn.GELU()\n",
        "        self.fc2 = nn.Linear(6 * 2, 6)\n",
        "        self.norm1 = nn.LayerNorm(6)\n",
        "        self.norm2 = nn.LayerNorm(6)\n",
        "\n",
        "    def forward(self, x):\n",
        "        x_ = self.attention(x, x, x)\n",
        "        x = x + x_\n",
        "        x = self.norm1(x)\n",
        "        x_ = self.fc1(x)\n",
        "        x = self.activation(x)\n",
        "        x_ = self.fc2(x_)\n",
        "        x = x + x_\n",
        "        x = self.norm2(x)\n",
        "\n",
        "        return x"
      ]
    },
    {
      "cell_type": "code",
      "execution_count": 52,
      "metadata": {
        "id": "MjdZ2W8BQdRD"
      },
      "outputs": [],
      "source": [
        "class Decoder(nn.Module):\n",
        "    def __init__(self):\n",
        "        super(Decoder, self).__init__()        \n",
        "        self.fc1 = nn.Linear(129, 7*7*128)\n",
        "        self.relu = nn.ReLU()\n",
        "        self.conv_transpose1 = nn.ConvTranspose2d(6*128, 3*64, kernel_size=2, stride=2)\n",
        "        self.conv_transpose2 = nn.ConvTranspose2d(3*64, 3, kernel_size=2, stride=2)\n",
        "        self.sigmoid = nn.Sigmoid()\n",
        "        \n",
        "    def forward(self, z):\n",
        "        x = self.fc1(z)\n",
        "        x = self.relu(x)\n",
        "        x = x.view(-1,6* 128, 7, 7)\n",
        "        x = self.conv_transpose1(x)\n",
        "        x = self.relu(x)\n",
        "        x = self.conv_transpose2(x)\n",
        "        x = self.sigmoid(x)\n",
        "        return x"
      ]
    },
    {
      "cell_type": "code",
      "execution_count": 53,
      "metadata": {
        "id": "vBfD9iDT7YcM"
      },
      "outputs": [],
      "source": [
        "class VisionTransformer(nn.Module):\n",
        "    def __init__(self):\n",
        "        super(VisionTransformer, self).__init__()\n",
        "        self.embedding = EmbedLayer()\n",
        "        self.encoder = nn.Sequential(*[Encoder() for _ in range(1)], nn.LayerNorm(6))\n",
        "        self.decoder = Decoder()\n",
        "\n",
        "        # Intialization\n",
        "        for m in self.modules():\n",
        "            if isinstance(m, (nn.Linear, nn.Conv2d)):\n",
        "                nn.init.normal_(m.weight, mean=0.0, std=0.02)\n",
        "                if m.bias is not None:\n",
        "                    nn.init.constant_(m.bias, 0)\n",
        "\n",
        "            elif isinstance(m, nn.LayerNorm):\n",
        "                nn.init.constant_(m.weight, 1)\n",
        "                if m.bias is not None:\n",
        "                    nn.init.constant_(m.bias, 0)\n",
        "\n",
        "    def forward(self, x):\n",
        "        x = self.embedding(x)\n",
        "        x = self.encoder(x)\n",
        "        x = x.transpose(1,2)\n",
        "        x = self.decoder(x)\n",
        "        return x"
      ]
    },
    {
      "cell_type": "code",
      "execution_count": 54,
      "metadata": {
        "id": "0qIc1_ScgAcQ"
      },
      "outputs": [],
      "source": [
        "class CAN(nn.Module):\n",
        "  def __init__(self):\n",
        "    super(CAN,self).__init__()\n",
        "    self.Classifier = Net()\n",
        "    self.ImgEncoder = torch.nn.Sequential(torch.nn.Linear(28 * 28, 128),torch.nn.ReLU())\n",
        "    self.Alighner = VisionTransformer()\n",
        "\n",
        "  def forward(self,Im1,Im2,Im3):\n",
        "    c1 = self.Classifier(Im1)\n",
        "    c1=F.pad(c1,(63,64))\n",
        "    c1=c1.reshape(Im1.shape[0],1,128)\n",
        "    c2 = self.Classifier(Im2)\n",
        "    c2=F.pad(c2,(63,64))\n",
        "    c2=c2.reshape(Im1.shape[0],1,128)\n",
        "    c3 = self.Classifier(Im3)\n",
        "    c3=F.pad(c3,(63,64))\n",
        "    c3=c3.reshape(Im1.shape[0],1,128)\n",
        "    c = torch.cat((c1,c2,c3),1)\n",
        "    Imgs = torch.cat((Im1,Im2,Im3),1)\n",
        "    Imgs = Imgs.reshape(Im1.shape[0],Imgs.shape[1],-1)\n",
        "    ShuffledImgs = shuffleIm(Imgs)\n",
        "    ShuffledImgs = self.ImgEncoder(ShuffledImgs)\n",
        "    input = torch.cat((c,ShuffledImgs),1)\n",
        "    output = self.Alighner(input)\n",
        "    return output"
      ]
    },
    {
      "cell_type": "code",
      "execution_count": 55,
      "metadata": {
        "id": "LAMsJ6Auu9jW"
      },
      "outputs": [],
      "source": [
        "# Transforms images to a PyTorch Tensor\n",
        "tensor_transform = transforms.ToTensor()\n",
        "\n",
        "# Download the MNIST Dataset\n",
        "dataset = datasets.MNIST(root = \"./data\",\n",
        "\t\t\t\t\t\ttrain = True,\n",
        "\t\t\t\t\t\tdownload = True,\n",
        "\t\t\t\t\t\ttransform = tensor_transform)\n",
        "\n",
        "\n",
        "loader = torch.utils.data.DataLoader(dataset = dataset,\n",
        "\t\t\t\t\t\t\t\t\tbatch_size = 64,\n",
        "\t\t\t\t\t\t\t\t\tshuffle = True)"
      ]
    },
    {
      "cell_type": "code",
      "execution_count": 56,
      "metadata": {
        "id": "-_-3On7oX2hi"
      },
      "outputs": [],
      "source": [
        "# Model Initialization\n",
        "model = CAN().cuda()"
      ]
    },
    {
      "cell_type": "code",
      "execution_count": 57,
      "metadata": {
        "id": "i426IqiYv5o_"
      },
      "outputs": [],
      "source": [
        "\n",
        "\n",
        "\n",
        "loss_fn = torch.nn.MSELoss()\n",
        "\n",
        "optimizer = torch.optim.Adam(model.parameters(),\n",
        "\t\t\t\t\t\t\tlr = 1e-3,\n",
        "\t\t\t\t\t\t\tweight_decay = 1e-8)\n"
      ]
    },
    {
      "cell_type": "code",
      "execution_count": null,
      "metadata": {
        "id": "cKJKs90-N7fG"
      },
      "outputs": [],
      "source": [
        "\n",
        "# training loop\n",
        "epochs = 100\n",
        "\n",
        "for epoch in range(epochs):\n",
        "    print(\"epoch number\", epoch)\n",
        "    c=0\n",
        "    Imgs = []\n",
        "    for (image, _) in loader:\n",
        "      Imgs.append(image)\n",
        "      c = c+1\n",
        "      if(c==5):\n",
        "        Img1 = Imgs[0].cuda()\n",
        "        Img2 = Imgs[1].cuda()\n",
        "        Img3 = Imgs[2].cuda()\n",
        "\n",
        "        Imgss = torch.cat((Img1,Img2,Img3),1)\n",
        "\n",
        "        pred = model(Img1,Img2,Img3)\n",
        "\n",
        "        RMSE_loss = torch.sqrt(loss_fn(pred, Imgss))\n",
        "\n",
        "        optimizer.zero_grad()\n",
        "        RMSE_loss.backward()\n",
        "        optimizer.step()\n",
        "       \n",
        "        print(\"RMSE loss: \", RMSE_loss)\n",
        "        c = 0\n",
        "        Imgs = []\n"
      ]
    },
    {
      "cell_type": "code",
      "source": [
        "# visualize the aligner output\n",
        "Imgs=[]\n",
        "c=0\n",
        "for (image, _) in loader:\n",
        "  Imgs.append(image)\n",
        "  c = c+1\n",
        "  if(c==10):\n",
        "    Img1 = Imgs[2]\n",
        "    Img2 = Imgs[5]\n",
        "    Img3 = Imgs[6]\n",
        "    break\n",
        "\n",
        "Imgss = torch.cat((Img1,Img2,Img3),1)\n",
        "Imgsss = Imgss[2]\n",
        "fig, axs = plt.subplots(1, 3, figsize=(10, 10))\n",
        "for i, image in enumerate(Imgsss):\n",
        "    axs[i].imshow(image.squeeze(), cmap='gray')\n",
        "plt.show()\n",
        "\n",
        "\n",
        "\n",
        "\n",
        "model.cpu()\n",
        "with torch.no_grad():\n",
        "    pred = model(Img1,Img2,Img3)\n",
        "pim1 = pred[2][0]\n",
        "pim2 = pred[2][1]\n",
        "pim3 = pred[2][2]\n",
        "predimgs=[pim1,pim2,pim3]\n",
        "print(pim1.shape)\n",
        "fig, axs = plt.subplots(1, 3, figsize=(10, 10))\n",
        "for i, image in enumerate(predimgs):\n",
        "    axs[i].imshow(image.squeeze(), cmap='gray')\n",
        "plt.show()"
      ],
      "metadata": {
        "colab": {
          "base_uri": "https://localhost:8080/",
          "height": 426
        },
        "id": "YquLlSo_d5zP",
        "outputId": "bc0caa97-721f-4d46-a49e-5eabd01d7aa5"
      },
      "execution_count": 79,
      "outputs": [
        {
          "output_type": "display_data",
          "data": {
            "text/plain": [
              "<Figure size 720x720 with 3 Axes>"
            ],
            "image/png": "[encoded data removed]"
          },
          "metadata": {
            "needs_background": "light"
          }
        },
        {
          "output_type": "stream",
          "name": "stdout",
          "text": [
            "torch.Size([28, 28])\n"
          ]
        },
        {
          "output_type": "display_data",
          "data": {
            "text/plain": [
              "<Figure size 720x720 with 3 Axes>"
            ],
            "image/png": "[encoded data removed]"
          },
          "metadata": {
            "needs_background": "light"
          }
        }
      ]
    },
    {
      "cell_type": "code",
      "execution_count": 80,
      "metadata": {
        "id": "a1FyhYPmLt3X"
      },
      "outputs": [],
      "source": [
        "\n",
        "#visualize classifier outputs\n",
        "batch,labels = next(iter(loader))\n",
        "digivect=model.Classifier(batch)"
      ]
    },
    {
      "cell_type": "code",
      "execution_count": 81,
      "metadata": {
        "id": "uPiowsVGOgkH"
      },
      "outputs": [],
      "source": [
        "# Create a list of colors based on the labels\n",
        "import matplotlib.colors as mcolors\n",
        "# Generate a set of 10 distinct colors\n",
        "colors = list(mcolors.TABLEAU_COLORS.values())\n",
        "label_colors = [colors[labels % len(colors)] for labels in labels]"
      ]
    },
    {
      "cell_type": "code",
      "execution_count": 83,
      "metadata": {
        "colab": {
          "base_uri": "https://localhost:8080/",
          "height": 423
        },
        "id": "M9svjKzLCMNR",
        "outputId": "f90e2ac8-09d8-4343-c291-c9eaccda7419"
      },
      "outputs": [
        {
          "output_type": "stream",
          "name": "stdout",
          "text": [
            "(64,)\n",
            "torch.Size([64])\n"
          ]
        },
        {
          "output_type": "display_data",
          "data": {
            "text/plain": [
              "<Figure size 2160x720 with 1 Axes>"
            ],
            "image/png": "[encoded data removed]"
          },
          "metadata": {
            "needs_background": "light"
          }
        }
      ],
      "source": [
        "# Create a tensor of shape (64,2)\n",
        "\n",
        "\n",
        "# Extract the x and y coordinates of the points\n",
        "xx = digivect[:, 0]\n",
        "yy = torch.zeros_like(xx)\n",
        "xx = xx.detach().numpy()\n",
        "print(xx.shape)\n",
        "print(yy.shape)\n",
        "# Create a scatter plot of the points\n",
        "fig = plt.figure(figsize=(30, 10))\n",
        "plt.scatter(xx, yy, c=label_colors)\n",
        "handles = [plt.plot([],[], marker=\"o\", ls=\"\", color=color, markersize=8)[0] for color in colors]\n",
        "labels = [f\"Label {i}\" for i in range(len(colors))]\n",
        "plt.legend(handles, labels, loc=\"upper right\", title=\"Labels\")\n",
        "\n",
        "# Show the plot\n",
        "plt.show()\n"
      ]
    }
  ],
  "metadata": {
    "accelerator": "GPU",
    "colab": {
      "provenance": [],
      "authorship_tag": "ABX9TyPIW5ji8oKv7mpW+prJW0JM",
      "include_colab_link": true
    },
    "gpuClass": "standard",
    "kernelspec": {
      "display_name": "Python 3",
      "name": "python3"
    },
    "language_info": {
      "name": "python"
    }
  },
  "nbformat": 4,
  "nbformat_minor": 0
}